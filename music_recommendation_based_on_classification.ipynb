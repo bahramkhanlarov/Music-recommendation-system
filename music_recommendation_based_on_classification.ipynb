{
  "nbformat": 4,
  "nbformat_minor": 0,
  "metadata": {
    "colab": {
      "provenance": [],
      "collapsed_sections": []
    },
    "kernelspec": {
      "name": "python3",
      "display_name": "Python 3"
    },
    "language_info": {
      "name": "python"
    }
  },
  "cells": [
    {
      "cell_type": "markdown",
      "source": [
        "**WORKFLOW STAGES**\n",
        "\n",
        "\n",
        "\n",
        "1.   Question or problem definition.\n",
        "2.   Project Aim/Goal.\n",
        "3.   Wrangle, prepare, cleanse the data.\n",
        "4.   Analyze, identify patterns, and explore the data.\n",
        "5.   Model, predict and solve the problem. \n",
        "\n"
      ],
      "metadata": {
        "id": "NOqSpfkNkEKf"
      }
    },
    {
      "cell_type": "markdown",
      "source": [
        "**Question and problem definition**\n",
        "\n",
        "**Context**\n",
        "\n",
        "“Getting the perfect music recommendation is a challenging task. Who has never dreamt of laying back and listening to some music, while having no buttons to press at all and still getting the perfect tune? But what defines this perfect tune?\n",
        "\n",
        "Deezer is a music streaming app, also available on the web. It proposes more than 43 million tracks and is available in more than 180 countries, through a free limited service and a premium offer.\n",
        "\n",
        "For this online challenge, Deezer wants you to look at Flow, its own music recommendation radio. The concept of Flow is simple: it uses collaborative filtering to provide a user with the music he wants to listen at the time he wants.... And if he does not want to listen to some specific tracks and skips songs by pressing the 'Next song' button, then the algorithm should detect it quickly. In this context, getting the first song recommendation right is really important“ ([Kaggle, 2017, parag. 1](https://www.kaggle.com/competitions/dsg17-online-phase/overview)).\n",
        "\n",
        "\n",
        "\n",
        "\n",
        "**Project Aim/Goal**\n",
        "\n",
        "\n",
        "The goal of this challenge is to predict whether the users of the test dataset listened to the first track Flow proposed them or not. Deezer considers that a track is \"listened\" if the user has listened to more than 30 seconds of it (is_listened =1). If the user presses the skip button to change the song before 30 seconds, then the track is not considered as being listened (is_listened = 0).\n",
        "\n",
        "The test dataset consists in a list of the first recommended tracks on Flow for several users. Each row represents one user.\n",
        "\n",
        "The train dataset was generated using the listening history of these Deezer users for one month. Each row represents one listened track. The list of distinct users in the train dataset matches exactly with the test dataset's one.\"\n",
        "\n",
        "At the end we try to answer the following 3 questions:\n",
        "\n",
        "- What would we do to win this competition?\n",
        "- What would we do to solve the problem that Deezer is interested in?\n",
        "- Why might the two solutions not overlap or why they do?"
      ],
      "metadata": {
        "id": "AK2i5E9pkM-f"
      }
    },
    {
      "cell_type": "code",
      "source": [
        "# Load Python libraries\n",
        "\n",
        "import matplotlib as mpl\n",
        "import warnings\n",
        "# data analysis and wrangling\n",
        "import pandas as pd\n",
        "import numpy as np\n",
        "import random as rnd\n",
        "\n",
        "# visualization\n",
        "import seaborn as sns\n",
        "import matplotlib.pyplot as plt\n",
        "warnings.filterwarnings('ignore')\n",
        "plt.style.use('ggplot')\n",
        "%matplotlib inline\n",
        "\n",
        "# machine learning\n",
        "from sklearn.model_selection import train_test_split\n",
        "from sklearn.linear_model import LogisticRegression\n",
        "from sklearn.svm import SVC, LinearSVC\n",
        "from sklearn.ensemble import RandomForestClassifier\n",
        "from sklearn.neighbors import KNeighborsClassifier\n",
        "from sklearn.naive_bayes import GaussianNB\n",
        "from sklearn.linear_model import Perceptron\n",
        "from sklearn.linear_model import SGDClassifier\n",
        "from sklearn.tree import DecisionTreeClassifier\n"
      ],
      "metadata": {
        "id": "piIeACwVrZsB"
      },
      "execution_count": 87,
      "outputs": []
    },
    {
      "cell_type": "markdown",
      "source": [
        "**Acquire data**\n",
        "\n",
        "We start by acquiring the training and testing datasets into Pandas DataFrames."
      ],
      "metadata": {
        "id": "C7BstqkZkfGp"
      }
    },
    {
      "cell_type": "markdown",
      "source": [
        "**Train & Test Data Exploration**"
      ],
      "metadata": {
        "id": "FozlHOFVeVMw"
      }
    },
    {
      "cell_type": "code",
      "source": [
        "from google.colab import drive\n",
        "drive.mount('/content/drive')"
      ],
      "metadata": {
        "colab": {
          "base_uri": "https://localhost:8080/"
        },
        "id": "dem_kCgDlNqm",
        "outputId": "8046e875-e935-425d-d9d7-f9943992c484"
      },
      "execution_count": 88,
      "outputs": [
        {
          "output_type": "stream",
          "name": "stdout",
          "text": [
            "Drive already mounted at /content/drive; to attempt to forcibly remount, call drive.mount(\"/content/drive\", force_remount=True).\n"
          ]
        }
      ]
    },
    {
      "cell_type": "code",
      "execution_count": 89,
      "metadata": {
        "id": "QzJJM-bIrQhe"
      },
      "outputs": [],
      "source": [
        "\n",
        "train_df=pd.read_csv(\"/content/drive/MyDrive/Colab Notebooks/train_music.csv\")\n",
        "test_df=pd.read_csv(\"/content/drive/MyDrive/Colab Notebooks/test_music.csv\")\n"
      ]
    },
    {
      "cell_type": "markdown",
      "source": [
        "The datasets contain the following features (variable is_listened is only present in the train dataset as it is the variable you need to predict)([Kaggle, 2017](https://www.kaggle.com/competitions/dsg17-online-phase/overview)):\n",
        "\n",
        "Data fields:\n",
        "- media_id - identifiant of the song listened by the user\n",
        "- album_id - identifiant of the album of the song\n",
        "- media_duration - duration of the song\n",
        "- user_gender -  gender of the user\n",
        "- user_id -  anonymized id of the user\n",
        "- context_type - type of content where the song was listened: playlist, album ...\n",
        "- release_date - release date of the song with the format YYYYMMDD\n",
        "- ts_listen - timestamp of the listening in UNIX time\n",
        "- platform_name - type of os\n",
        "- platform_family - type of device\n",
        "- user_age - age of the user\n",
        "- listen_type - if the songs was listened in a flow or not\n",
        "- artist_id - identifiant of the artist of the song\n",
        "- genre_id - identifiant of the genre of the song\n",
        "- is_listened - 1 if the track was listened, 0 otherwise\n"
      ],
      "metadata": {
        "id": "FxwSSWDWUYw5"
      }
    },
    {
      "cell_type": "code",
      "source": [
        "train_df.info()\n",
        "print('_'*40)\n",
        "test_df.info()"
      ],
      "metadata": {
        "colab": {
          "base_uri": "https://localhost:8080/"
        },
        "id": "1Ge8HtX0r-Av",
        "outputId": "c4b99c38-21f5-4234-9f47-b1d07c42dcb4"
      },
      "execution_count": 90,
      "outputs": [
        {
          "output_type": "stream",
          "name": "stdout",
          "text": [
            "<class 'pandas.core.frame.DataFrame'>\n",
            "RangeIndex: 517484 entries, 0 to 517483\n",
            "Data columns (total 15 columns):\n",
            " #   Column           Non-Null Count   Dtype  \n",
            "---  ------           --------------   -----  \n",
            " 0   genre_id         517484 non-null  int64  \n",
            " 1   ts_listen        517484 non-null  int64  \n",
            " 2   media_id         517484 non-null  int64  \n",
            " 3   album_id         517484 non-null  int64  \n",
            " 4   context_type     517484 non-null  int64  \n",
            " 5   release_date     517484 non-null  int64  \n",
            " 6   platform_name    517483 non-null  float64\n",
            " 7   platform_family  517483 non-null  float64\n",
            " 8   media_duration   517483 non-null  float64\n",
            " 9   listen_type      517483 non-null  float64\n",
            " 10  user_gender      517483 non-null  float64\n",
            " 11  user_id          517483 non-null  float64\n",
            " 12  artist_id        517483 non-null  float64\n",
            " 13  user_age         517483 non-null  float64\n",
            " 14  is_listened      517483 non-null  float64\n",
            "dtypes: float64(9), int64(6)\n",
            "memory usage: 59.2 MB\n",
            "________________________________________\n",
            "<class 'pandas.core.frame.DataFrame'>\n",
            "RangeIndex: 19918 entries, 0 to 19917\n",
            "Data columns (total 15 columns):\n",
            " #   Column           Non-Null Count  Dtype\n",
            "---  ------           --------------  -----\n",
            " 0   sample_id        19918 non-null  int64\n",
            " 1   genre_id         19918 non-null  int64\n",
            " 2   ts_listen        19918 non-null  int64\n",
            " 3   media_id         19918 non-null  int64\n",
            " 4   album_id         19918 non-null  int64\n",
            " 5   context_type     19918 non-null  int64\n",
            " 6   release_date     19918 non-null  int64\n",
            " 7   platform_name    19918 non-null  int64\n",
            " 8   platform_family  19918 non-null  int64\n",
            " 9   media_duration   19918 non-null  int64\n",
            " 10  listen_type      19918 non-null  int64\n",
            " 11  user_gender      19918 non-null  int64\n",
            " 12  user_id          19918 non-null  int64\n",
            " 13  artist_id        19918 non-null  int64\n",
            " 14  user_age         19918 non-null  int64\n",
            "dtypes: int64(15)\n",
            "memory usage: 2.3 MB\n"
          ]
        }
      ]
    },
    {
      "cell_type": "code",
      "source": [
        "train_df.apply(lambda x: sum(x.isnull()), axis=0)"
      ],
      "metadata": {
        "colab": {
          "base_uri": "https://localhost:8080/"
        },
        "id": "iSg8Km0AuwcZ",
        "outputId": "f7927e35-081f-4c08-e50c-ce95d5c7b40c"
      },
      "execution_count": 91,
      "outputs": [
        {
          "output_type": "execute_result",
          "data": {
            "text/plain": [
              "genre_id           0\n",
              "ts_listen          0\n",
              "media_id           0\n",
              "album_id           0\n",
              "context_type       0\n",
              "release_date       0\n",
              "platform_name      1\n",
              "platform_family    1\n",
              "media_duration     1\n",
              "listen_type        1\n",
              "user_gender        1\n",
              "user_id            1\n",
              "artist_id          1\n",
              "user_age           1\n",
              "is_listened        1\n",
              "dtype: int64"
            ]
          },
          "metadata": {},
          "execution_count": 91
        }
      ]
    },
    {
      "cell_type": "code",
      "source": [
        "# drop NAs\n",
        "train_df=train_df.dropna()"
      ],
      "metadata": {
        "id": "8aB3bbnrC_lv"
      },
      "execution_count": 92,
      "outputs": []
    },
    {
      "cell_type": "code",
      "source": [
        "for col in ['release_date','genre_id','media_id','album_id','context_type','platform_name','platform_family','listen_type','user_gender',\n",
        "                  'user_id','artist_id','is_listened']:\n",
        "    train_df[col] = train_df[col].astype('category')"
      ],
      "metadata": {
        "id": "UoDoXkxr3pVn"
      },
      "execution_count": 93,
      "outputs": []
    },
    {
      "cell_type": "code",
      "source": [
        "from datetime import datetime as dt \n",
        "#train_df[\"ts_listen\"] = pd.to_datetime(train_df[\"ts_listen\"], errors='coerce')\n",
        "#train_df[\"release_date\"] = pd.to_datetime(train_df[\"release_date\"], errors='coerce')\n",
        "#train_df[\"ts_listen\"] = train_df[\"ts_listen\"].dt.strftime('%Y-%m-%d')\n",
        "#train_df[\"release_date\"] = train_df[\"release_date\"].dt.strftime('%Y-%m-%d')"
      ],
      "metadata": {
        "id": "gcYL2-kCnWFZ"
      },
      "execution_count": 94,
      "outputs": []
    },
    {
      "cell_type": "code",
      "source": [
        "g = sns.FacetGrid(train_df, col='is_listened')\n",
        "g.map(plt.hist, 'user_age', bins=20)"
      ],
      "metadata": {
        "colab": {
          "base_uri": "https://localhost:8080/",
          "height": 242
        },
        "id": "1ZWyIuHmmYbn",
        "outputId": "839c67b2-76c3-4039-b253-9e8683c36483"
      },
      "execution_count": 95,
      "outputs": [
        {
          "output_type": "execute_result",
          "data": {
            "text/plain": [
              "<seaborn.axisgrid.FacetGrid at 0x7fc7614be1d0>"
            ]
          },
          "metadata": {},
          "execution_count": 95
        },
        {
          "output_type": "display_data",
          "data": {
            "text/plain": [
              "<Figure size 432x216 with 2 Axes>"
            ],
            "image/png": "[encoded data removed]"
          },
          "metadata": {
            "needs_background": "light"
          }
        }
      ]
    },
    {
      "cell_type": "code",
      "source": [
        "a = train_df.groupby('user_age').size()\n",
        "a = pd.DataFrame(a)\n",
        "a.reset_index(level=0, inplace=True)\n",
        "a.columns = ['user_age', 'Count']\n",
        "a = a.sort_values(by='Count', ascending=False)\n",
        "print(a)\n",
        "plt.rcParams[\"axes.labelsize\"] = 15\n",
        "ax = sns.catplot(x='user_age', y='Count', kind='bar',\n",
        "                 data=a, height=6, palette='ch:2.5,-.2,dark=.4', aspect=1.5)\n",
        "ax.fig.suptitle('Distribution of User Age', fontsize=15)\n",
        "ax.fig.subplots_adjust(top=.9)\n",
        "plt.show()"
      ],
      "metadata": {
        "colab": {
          "base_uri": "https://localhost:8080/",
          "height": 686
        },
        "id": "9pitGm2xTtea",
        "outputId": "25cfb906-3982-44ac-dc29-aa2e500ae77a"
      },
      "execution_count": 96,
      "outputs": [
        {
          "output_type": "stream",
          "name": "stdout",
          "text": [
            "    user_age  Count\n",
            "0       18.0  50858\n",
            "1       19.0  45187\n",
            "2       20.0  42174\n",
            "3       21.0  41800\n",
            "12      30.0  41387\n",
            "8       26.0  40396\n",
            "7       25.0  38591\n",
            "9       27.0  38497\n",
            "4       22.0  36823\n",
            "5       23.0  36769\n",
            "6       24.0  35681\n",
            "10      28.0  34921\n",
            "11      29.0  34399\n"
          ]
        },
        {
          "output_type": "display_data",
          "data": {
            "text/plain": [
              "<Figure size 648x432 with 1 Axes>"
            ],
            "image/png": "[encoded data removed]"
          },
          "metadata": {
            "needs_background": "light"
          }
        }
      ]
    },
    {
      "cell_type": "code",
      "source": [
        "b = train_df.groupby('user_gender').size()\n",
        "b = pd.DataFrame(b)\n",
        "b.reset_index(level=0, inplace=True)\n",
        "b.columns = ['user_gender', 'Count']\n",
        "b = b.sort_values(by='Count', ascending=False)\n",
        "print(b)\n",
        "plt.rcParams[\"axes.labelsize\"] = 15\n",
        "ax = sns.catplot(x='user_gender', y='Count', kind='bar',\n",
        "                 data=b, height=6, palette='ch:2.5,-.2,dark=.4', aspect=1.5)\n",
        "ax.fig.suptitle('Distribution of User Gender', fontsize=15)\n",
        "ax.fig.subplots_adjust(top=.9)\n",
        "plt.show()"
      ],
      "metadata": {
        "colab": {
          "base_uri": "https://localhost:8080/",
          "height": 495
        },
        "id": "34CYmwWUg_8X",
        "outputId": "0d342d5d-25d6-4fa5-fe7f-1da1c19cf4be"
      },
      "execution_count": 97,
      "outputs": [
        {
          "output_type": "stream",
          "name": "stdout",
          "text": [
            "  user_gender   Count\n",
            "0         0.0  323485\n",
            "1         1.0  193998\n"
          ]
        },
        {
          "output_type": "display_data",
          "data": {
            "text/plain": [
              "<Figure size 648x432 with 1 Axes>"
            ],
            "image/png": "[encoded data removed]"
          },
          "metadata": {
            "needs_background": "light"
          }
        }
      ]
    },
    {
      "cell_type": "markdown",
      "source": [
        "***Distribution of song length***"
      ],
      "metadata": {
        "id": "gjFFgBMZn--e"
      }
    },
    {
      "cell_type": "code",
      "source": [
        "print((train_df.media_duration/60).describe())\n",
        "plt.subplots(figsize=(10, 7))\n",
        "x = train_df.media_duration/60\n",
        "ax = sns.distplot(x, color='black')\n",
        "ax.set_title('Distribution of Song Length', fontsize=15)\n",
        "ax.set(xlabel='Song Length', ylabel='Count')\n",
        "plt.show()"
      ],
      "metadata": {
        "colab": {
          "base_uri": "https://localhost:8080/",
          "height": 621
        },
        "id": "xIavhPHdnc4E",
        "outputId": "eee18334-a1da-43dd-ce25-ec32196dde9d"
      },
      "execution_count": 98,
      "outputs": [
        {
          "output_type": "stream",
          "name": "stdout",
          "text": [
            "count    517483.000000\n",
            "mean          3.882799\n",
            "std           0.987091\n",
            "min           0.000000\n",
            "25%           3.300000\n",
            "50%           3.783333\n",
            "75%           4.250000\n",
            "max          75.300000\n",
            "Name: media_duration, dtype: float64\n"
          ]
        },
        {
          "output_type": "display_data",
          "data": {
            "text/plain": [
              "<Figure size 720x504 with 1 Axes>"
            ],
            "image/png": "[encoded data removed]"
          },
          "metadata": {
            "needs_background": "light"
          }
        }
      ]
    },
    {
      "cell_type": "markdown",
      "source": [
        "We can see that most of the songs are below 10 min."
      ],
      "metadata": {
        "id": "u8pWpERTocuD"
      }
    },
    {
      "cell_type": "code",
      "source": [
        "test_df.apply(lambda x: sum(x.isnull()), axis=0)"
      ],
      "metadata": {
        "colab": {
          "base_uri": "https://localhost:8080/"
        },
        "id": "MBQtM-ddJnh_",
        "outputId": "5638694b-bd4f-4b9f-cdae-af13847fe917"
      },
      "execution_count": 99,
      "outputs": [
        {
          "output_type": "execute_result",
          "data": {
            "text/plain": [
              "sample_id          0\n",
              "genre_id           0\n",
              "ts_listen          0\n",
              "media_id           0\n",
              "album_id           0\n",
              "context_type       0\n",
              "release_date       0\n",
              "platform_name      0\n",
              "platform_family    0\n",
              "media_duration     0\n",
              "listen_type        0\n",
              "user_gender        0\n",
              "user_id            0\n",
              "artist_id          0\n",
              "user_age           0\n",
              "dtype: int64"
            ]
          },
          "metadata": {},
          "execution_count": 99
        }
      ]
    },
    {
      "cell_type": "code",
      "source": [
        "for col in ['release_date','genre_id','media_id','album_id','context_type','platform_name','platform_family','listen_type','user_gender',\n",
        "                  'user_id','artist_id']:\n",
        "    test_df[col] = test_df[col].astype('category')"
      ],
      "metadata": {
        "id": "1oMXAIj3Jdkf"
      },
      "execution_count": 100,
      "outputs": []
    },
    {
      "cell_type": "code",
      "source": [
        "# drop NAs\n",
        "test_df=train_df.dropna()"
      ],
      "metadata": {
        "id": "fPpEgnz34yLS"
      },
      "execution_count": 101,
      "outputs": []
    },
    {
      "cell_type": "code",
      "source": [
        "from datetime import datetime as dt \n",
        "\n",
        "from datetime import datetime as dt \n",
        "#test_df[\"ts_listen\"] = pd.to_datetime(test_df[\"ts_listen\"], errors='coerce')\n",
        "#test_df[\"release_date\"] = pd.to_datetime(test_df[\"release_date\"], errors='coerce')\n",
        "#test_df[\"ts_listen\"] = test_df[\"ts_listen\"].dt.strftime('%Y-%m-%d')\n",
        "#test_df[\"release_date\"] = test_df[\"release_date\"].dt.strftime('%Y-%m-%d')\n",
        "\n"
      ],
      "metadata": {
        "id": "m3FzzGpILRiB"
      },
      "execution_count": 102,
      "outputs": []
    },
    {
      "cell_type": "code",
      "source": [
        "test_df"
      ],
      "metadata": {
        "colab": {
          "base_uri": "https://localhost:8080/",
          "height": 488
        },
        "id": "TOMxZu-5517J",
        "outputId": "6c6c9e59-6c3e-4fad-f300-a1cb7750aa57"
      },
      "execution_count": 103,
      "outputs": [
        {
          "output_type": "execute_result",
          "data": {
            "text/plain": [
              "       genre_id   ts_listen  media_id album_id context_type release_date  \\\n",
              "0         25471  1480597215    222606    41774           12     20040704   \n",
              "1         25571  1480544735    250467    43941            0     20060301   \n",
              "2            16  1479563953    305197    48078            1     20140714   \n",
              "3             7  1480152098    900502    71521            0     20001030   \n",
              "4             7  1478368974    542335    71718            0     20080215   \n",
              "...         ...         ...       ...      ...          ...          ...   \n",
              "517478      253  1478208332  69141278  6775637            0     20130719   \n",
              "517479      253  1476822962  69141278  6775637            0     20130719   \n",
              "517480      253  1477464601  69141278  6775637            0     20130719   \n",
              "517481      253  1477658416  69141278  6775637            0     20130719   \n",
              "517482      253  1478208336  69141278  6775637            0     20130719   \n",
              "\n",
              "       platform_name platform_family  media_duration listen_type user_gender  \\\n",
              "0                1.0             0.0           223.0         0.0         0.0   \n",
              "1                2.0             1.0           171.0         0.0         0.0   \n",
              "2                2.0             1.0           149.0         1.0         1.0   \n",
              "3                0.0             0.0           240.0         0.0         1.0   \n",
              "4                0.0             0.0           150.0         0.0         1.0   \n",
              "...              ...             ...             ...         ...         ...   \n",
              "517478           0.0             0.0           234.0         0.0         1.0   \n",
              "517479           0.0             0.0           234.0         0.0         1.0   \n",
              "517480           0.0             0.0           234.0         0.0         1.0   \n",
              "517481           0.0             0.0           234.0         0.0         1.0   \n",
              "517482           0.0             0.0           234.0         0.0         1.0   \n",
              "\n",
              "        user_id  artist_id  user_age is_listened  \n",
              "0        9241.0    55164.0      29.0         0.0  \n",
              "1       16547.0    55830.0      30.0         1.0  \n",
              "2        7665.0     2704.0      29.0         1.0  \n",
              "3        1580.0      938.0      30.0         0.0  \n",
              "4        1812.0     2939.0      24.0         1.0  \n",
              "...         ...        ...       ...         ...  \n",
              "517478      7.0  1000956.0      25.0         0.0  \n",
              "517479      7.0  1000956.0      25.0         0.0  \n",
              "517480      7.0  1000956.0      25.0         1.0  \n",
              "517481      7.0  1000956.0      25.0         0.0  \n",
              "517482      7.0  1000956.0      25.0         0.0  \n",
              "\n",
              "[517483 rows x 15 columns]"
            ],
            "text/html": [
              "\n",
              "  <div id=\"df-b453008e-e213-4a62-9049-87b9a5881d82\">\n",
              "    <div class=\"colab-df-container\">\n",
              "      <div>\n",
              "<style scoped>\n",
              "    .dataframe tbody tr th:only-of-type {\n",
              "        vertical-align: middle;\n",
              "    }\n",
              "\n",
              "    .dataframe tbody tr th {\n",
              "        vertical-align: top;\n",
              "    }\n",
              "\n",
              "    .dataframe thead th {\n",
              "        text-align: right;\n",
              "    }\n",
              "</style>\n",
              "<table border=\"1\" class=\"dataframe\">\n",
              "  <thead>\n",
              "    <tr style=\"text-align: right;\">\n",
              "      <th></th>\n",
              "      <th>genre_id</th>\n",
              "      <th>ts_listen</th>\n",
              "      <th>media_id</th>\n",
              "      <th>album_id</th>\n",
              "      <th>context_type</th>\n",
              "      <th>release_date</th>\n",
              "      <th>platform_name</th>\n",
              "      <th>platform_family</th>\n",
              "      <th>media_duration</th>\n",
              "      <th>listen_type</th>\n",
              "      <th>user_gender</th>\n",
              "      <th>user_id</th>\n",
              "      <th>artist_id</th>\n",
              "      <th>user_age</th>\n",
              "      <th>is_listened</th>\n",
              "    </tr>\n",
              "  </thead>\n",
              "  <tbody>\n",
              "    <tr>\n",
              "      <th>0</th>\n",
              "      <td>25471</td>\n",
              "      <td>1480597215</td>\n",
              "      <td>222606</td>\n",
              "      <td>41774</td>\n",
              "      <td>12</td>\n",
              "      <td>20040704</td>\n",
              "      <td>1.0</td>\n",
              "      <td>0.0</td>\n",
              "      <td>223.0</td>\n",
              "      <td>0.0</td>\n",
              "      <td>0.0</td>\n",
              "      <td>9241.0</td>\n",
              "      <td>55164.0</td>\n",
              "      <td>29.0</td>\n",
              "      <td>0.0</td>\n",
              "    </tr>\n",
              "    <tr>\n",
              "      <th>1</th>\n",
              "      <td>25571</td>\n",
              "      <td>1480544735</td>\n",
              "      <td>250467</td>\n",
              "      <td>43941</td>\n",
              "      <td>0</td>\n",
              "      <td>20060301</td>\n",
              "      <td>2.0</td>\n",
              "      <td>1.0</td>\n",
              "      <td>171.0</td>\n",
              "      <td>0.0</td>\n",
              "      <td>0.0</td>\n",
              "      <td>16547.0</td>\n",
              "      <td>55830.0</td>\n",
              "      <td>30.0</td>\n",
              "      <td>1.0</td>\n",
              "    </tr>\n",
              "    <tr>\n",
              "      <th>2</th>\n",
              "      <td>16</td>\n",
              "      <td>1479563953</td>\n",
              "      <td>305197</td>\n",
              "      <td>48078</td>\n",
              "      <td>1</td>\n",
              "      <td>20140714</td>\n",
              "      <td>2.0</td>\n",
              "      <td>1.0</td>\n",
              "      <td>149.0</td>\n",
              "      <td>1.0</td>\n",
              "      <td>1.0</td>\n",
              "      <td>7665.0</td>\n",
              "      <td>2704.0</td>\n",
              "      <td>29.0</td>\n",
              "      <td>1.0</td>\n",
              "    </tr>\n",
              "    <tr>\n",
              "      <th>3</th>\n",
              "      <td>7</td>\n",
              "      <td>1480152098</td>\n",
              "      <td>900502</td>\n",
              "      <td>71521</td>\n",
              "      <td>0</td>\n",
              "      <td>20001030</td>\n",
              "      <td>0.0</td>\n",
              "      <td>0.0</td>\n",
              "      <td>240.0</td>\n",
              "      <td>0.0</td>\n",
              "      <td>1.0</td>\n",
              "      <td>1580.0</td>\n",
              "      <td>938.0</td>\n",
              "      <td>30.0</td>\n",
              "      <td>0.0</td>\n",
              "    </tr>\n",
              "    <tr>\n",
              "      <th>4</th>\n",
              "      <td>7</td>\n",
              "      <td>1478368974</td>\n",
              "      <td>542335</td>\n",
              "      <td>71718</td>\n",
              "      <td>0</td>\n",
              "      <td>20080215</td>\n",
              "      <td>0.0</td>\n",
              "      <td>0.0</td>\n",
              "      <td>150.0</td>\n",
              "      <td>0.0</td>\n",
              "      <td>1.0</td>\n",
              "      <td>1812.0</td>\n",
              "      <td>2939.0</td>\n",
              "      <td>24.0</td>\n",
              "      <td>1.0</td>\n",
              "    </tr>\n",
              "    <tr>\n",
              "      <th>...</th>\n",
              "      <td>...</td>\n",
              "      <td>...</td>\n",
              "      <td>...</td>\n",
              "      <td>...</td>\n",
              "      <td>...</td>\n",
              "      <td>...</td>\n",
              "      <td>...</td>\n",
              "      <td>...</td>\n",
              "      <td>...</td>\n",
              "      <td>...</td>\n",
              "      <td>...</td>\n",
              "      <td>...</td>\n",
              "      <td>...</td>\n",
              "      <td>...</td>\n",
              "      <td>...</td>\n",
              "    </tr>\n",
              "    <tr>\n",
              "      <th>517478</th>\n",
              "      <td>253</td>\n",
              "      <td>1478208332</td>\n",
              "      <td>69141278</td>\n",
              "      <td>6775637</td>\n",
              "      <td>0</td>\n",
              "      <td>20130719</td>\n",
              "      <td>0.0</td>\n",
              "      <td>0.0</td>\n",
              "      <td>234.0</td>\n",
              "      <td>0.0</td>\n",
              "      <td>1.0</td>\n",
              "      <td>7.0</td>\n",
              "      <td>1000956.0</td>\n",
              "      <td>25.0</td>\n",
              "      <td>0.0</td>\n",
              "    </tr>\n",
              "    <tr>\n",
              "      <th>517479</th>\n",
              "      <td>253</td>\n",
              "      <td>1476822962</td>\n",
              "      <td>69141278</td>\n",
              "      <td>6775637</td>\n",
              "      <td>0</td>\n",
              "      <td>20130719</td>\n",
              "      <td>0.0</td>\n",
              "      <td>0.0</td>\n",
              "      <td>234.0</td>\n",
              "      <td>0.0</td>\n",
              "      <td>1.0</td>\n",
              "      <td>7.0</td>\n",
              "      <td>1000956.0</td>\n",
              "      <td>25.0</td>\n",
              "      <td>0.0</td>\n",
              "    </tr>\n",
              "    <tr>\n",
              "      <th>517480</th>\n",
              "      <td>253</td>\n",
              "      <td>1477464601</td>\n",
              "      <td>69141278</td>\n",
              "      <td>6775637</td>\n",
              "      <td>0</td>\n",
              "      <td>20130719</td>\n",
              "      <td>0.0</td>\n",
              "      <td>0.0</td>\n",
              "      <td>234.0</td>\n",
              "      <td>0.0</td>\n",
              "      <td>1.0</td>\n",
              "      <td>7.0</td>\n",
              "      <td>1000956.0</td>\n",
              "      <td>25.0</td>\n",
              "      <td>1.0</td>\n",
              "    </tr>\n",
              "    <tr>\n",
              "      <th>517481</th>\n",
              "      <td>253</td>\n",
              "      <td>1477658416</td>\n",
              "      <td>69141278</td>\n",
              "      <td>6775637</td>\n",
              "      <td>0</td>\n",
              "      <td>20130719</td>\n",
              "      <td>0.0</td>\n",
              "      <td>0.0</td>\n",
              "      <td>234.0</td>\n",
              "      <td>0.0</td>\n",
              "      <td>1.0</td>\n",
              "      <td>7.0</td>\n",
              "      <td>1000956.0</td>\n",
              "      <td>25.0</td>\n",
              "      <td>0.0</td>\n",
              "    </tr>\n",
              "    <tr>\n",
              "      <th>517482</th>\n",
              "      <td>253</td>\n",
              "      <td>1478208336</td>\n",
              "      <td>69141278</td>\n",
              "      <td>6775637</td>\n",
              "      <td>0</td>\n",
              "      <td>20130719</td>\n",
              "      <td>0.0</td>\n",
              "      <td>0.0</td>\n",
              "      <td>234.0</td>\n",
              "      <td>0.0</td>\n",
              "      <td>1.0</td>\n",
              "      <td>7.0</td>\n",
              "      <td>1000956.0</td>\n",
              "      <td>25.0</td>\n",
              "      <td>0.0</td>\n",
              "    </tr>\n",
              "  </tbody>\n",
              "</table>\n",
              "<p>517483 rows × 15 columns</p>\n",
              "</div>\n",
              "      <button class=\"colab-df-convert\" onclick=\"convertToInteractive('df-b453008e-e213-4a62-9049-87b9a5881d82')\"\n",
              "              title=\"Convert this dataframe to an interactive table.\"\n",
              "              style=\"display:none;\">\n",
              "        \n",
              "  <svg xmlns=\"http://www.w3.org/2000/svg\" height=\"24px\"viewBox=\"0 0 24 24\"\n",
              "       width=\"24px\">\n",
              "    <path d=\"M0 0h24v24H0V0z\" fill=\"none\"/>\n",
              "    <path d=\"M18.56 5.44l.94 2.06.94-2.06 2.06-.94-2.06-.94-.94-2.06-.94 2.06-2.06.94zm-11 1L8.5 8.5l.94-2.06 2.06-.94-2.06-.94L8.5 2.5l-.94 2.06-2.06.94zm10 10l.94 2.06.94-2.06 2.06-.94-2.06-.94-.94-2.06-.94 2.06-2.06.94z\"/><path d=\"M17.41 7.96l-1.37-1.37c-.4-.4-.92-.59-1.43-.59-.52 0-1.04.2-1.43.59L10.3 9.45l-7.72 7.72c-.78.78-.78 2.05 0 2.83L4 21.41c.39.39.9.59 1.41.59.51 0 1.02-.2 1.41-.59l7.78-7.78 2.81-2.81c.8-.78.8-2.07 0-2.86zM5.41 20L4 18.59l7.72-7.72 1.47 1.35L5.41 20z\"/>\n",
              "  </svg>\n",
              "      </button>\n",
              "      \n",
              "  <style>\n",
              "    .colab-df-container {\n",
              "      display:flex;\n",
              "      flex-wrap:wrap;\n",
              "      gap: 12px;\n",
              "    }\n",
              "\n",
              "    .colab-df-convert {\n",
              "      background-color: #E8F0FE;\n",
              "      border: none;\n",
              "      border-radius: 50%;\n",
              "      cursor: pointer;\n",
              "      display: none;\n",
              "      fill: #1967D2;\n",
              "      height: 32px;\n",
              "      padding: 0 0 0 0;\n",
              "      width: 32px;\n",
              "    }\n",
              "\n",
              "    .colab-df-convert:hover {\n",
              "      background-color: #E2EBFA;\n",
              "      box-shadow: 0px 1px 2px rgba(60, 64, 67, 0.3), 0px 1px 3px 1px rgba(60, 64, 67, 0.15);\n",
              "      fill: #174EA6;\n",
              "    }\n",
              "\n",
              "    [theme=dark] .colab-df-convert {\n",
              "      background-color: #3B4455;\n",
              "      fill: #D2E3FC;\n",
              "    }\n",
              "\n",
              "    [theme=dark] .colab-df-convert:hover {\n",
              "      background-color: #434B5C;\n",
              "      box-shadow: 0px 1px 3px 1px rgba(0, 0, 0, 0.15);\n",
              "      filter: drop-shadow(0px 1px 2px rgba(0, 0, 0, 0.3));\n",
              "      fill: #FFFFFF;\n",
              "    }\n",
              "  </style>\n",
              "\n",
              "      <script>\n",
              "        const buttonEl =\n",
              "          document.querySelector('#df-b453008e-e213-4a62-9049-87b9a5881d82 button.colab-df-convert');\n",
              "        buttonEl.style.display =\n",
              "          google.colab.kernel.accessAllowed ? 'block' : 'none';\n",
              "\n",
              "        async function convertToInteractive(key) {\n",
              "          const element = document.querySelector('#df-b453008e-e213-4a62-9049-87b9a5881d82');\n",
              "          const dataTable =\n",
              "            await google.colab.kernel.invokeFunction('convertToInteractive',\n",
              "                                                     [key], {});\n",
              "          if (!dataTable) return;\n",
              "\n",
              "          const docLinkHtml = 'Like what you see? Visit the ' +\n",
              "            '<a target=\"_blank\" href=https://colab.research.google.com/notebooks/data_table.ipynb>data table notebook</a>'\n",
              "            + ' to learn more about interactive tables.';\n",
              "          element.innerHTML = '';\n",
              "          dataTable['output_type'] = 'display_data';\n",
              "          await google.colab.output.renderOutput(dataTable, element);\n",
              "          const docLink = document.createElement('div');\n",
              "          docLink.innerHTML = docLinkHtml;\n",
              "          element.appendChild(docLink);\n",
              "        }\n",
              "      </script>\n",
              "    </div>\n",
              "  </div>\n",
              "  "
            ]
          },
          "metadata": {},
          "execution_count": 103
        }
      ]
    },
    {
      "cell_type": "markdown",
      "source": [
        "**Model & Prediction**"
      ],
      "metadata": {
        "id": "E3vpFIpp_DgJ"
      }
    },
    {
      "cell_type": "markdown",
      "source": [
        "Now we are ready to train a model and predict the required solution. There are many predictive modelling algorithms to choose from. We must understand the type of problem and solution requirement to narrow down to a select few models which we can evaluate. Our problem is a classification and regression problem. We want to identify relationship between output (Is listened or not) with other variables or features ('ts_listen', 'media_id', 'album_id', 'context_type', 'release_date'...). We are also perfoming a category of machine learning which is called supervised learning as we are training our model with a given dataset. With these two criteria - Supervised Learning plus Classification and Regression, we can narrow down our choice of models to a few. These include:\n",
        "\n",
        "- Logistic Regression\n",
        "- KNN or k-Nearest Neighbors\n",
        "- Naive Bayes classifier\n",
        "- Stochastic Gradient Descent\n",
        "- Decision Tree\n",
        "- Random Forrest\n",
        "- Linear Support Vector Classifier"
      ],
      "metadata": {
        "id": "xBUwn28zWSsb"
      }
    },
    {
      "cell_type": "code",
      "source": [
        "X_train = train_df.drop(\"is_listened\", axis=1)\n",
        "Y_train = train_df[\"is_listened\"]\n",
        "X_test  = test_df.drop(\"user_id\",axis=1).copy()\n",
        "X_train.shape, Y_train.shape, X_test.shape\n"
      ],
      "metadata": {
        "colab": {
          "base_uri": "https://localhost:8080/"
        },
        "id": "1whORiDa1nyf",
        "outputId": "8d008de3-0404-4e8c-a54f-e71ce2bfdbee"
      },
      "execution_count": 109,
      "outputs": [
        {
          "output_type": "execute_result",
          "data": {
            "text/plain": [
              "((517483, 14), (517483,), (517483, 14))"
            ]
          },
          "metadata": {},
          "execution_count": 109
        }
      ]
    },
    {
      "cell_type": "markdown",
      "source": [
        "Logistic Regression is a useful model to run early in the workflow. Logistic regression measures the relationship between the categorical dependent variable (feature) and one or more independent variables (features) by estimating probabilities using a logistic function."
      ],
      "metadata": {
        "id": "saOmuqZc_bKd"
      }
    },
    {
      "cell_type": "code",
      "source": [
        "# Logistic Regression\n",
        "\n",
        "logreg = LogisticRegression()\n",
        "logreg.fit(X_train, Y_train)\n",
        "Y_pred = logreg.predict(X_test)\n",
        "acc_log = round(logreg.score(X_train, Y_train) * 100, 2)\n",
        "acc_log"
      ],
      "metadata": {
        "colab": {
          "base_uri": "https://localhost:8080/"
        },
        "id": "5lqgfHZl2em1",
        "outputId": "3f9d15b4-c0fb-4555-c408-48600cf0090b"
      },
      "execution_count": 110,
      "outputs": [
        {
          "output_type": "execute_result",
          "data": {
            "text/plain": [
              "69.74"
            ]
          },
          "metadata": {},
          "execution_count": 110
        }
      ]
    },
    {
      "cell_type": "markdown",
      "source": [
        "We can use Logistic Regression to validate our assumptions and decisions for feature creating and completing goals. This can be done by calculating the coefficient of the features in the decision function.\n",
        "\n",
        "Positive coefficients increase the log-odds of the response (and thus increase the probability), and negative coefficients decrease the log-odds of the response (and thus decrease the probability)."
      ],
      "metadata": {
        "id": "kodEIeUx_wbY"
      }
    },
    {
      "cell_type": "code",
      "source": [
        "coeff_df = pd.DataFrame(train_df.columns.delete(0))\n",
        "coeff_df.columns = ['Feature']\n",
        "coeff_df[\"Correlation\"] = pd.Series(logreg.coef_[0])\n",
        "\n",
        "coeff_df.sort_values(by='Correlation', ascending=False)"
      ],
      "metadata": {
        "colab": {
          "base_uri": "https://localhost:8080/",
          "height": 488
        },
        "id": "K0_lQdyb1Cky",
        "outputId": "4b489653-8d6d-4a95-90cf-dd0be65aabaf"
      },
      "execution_count": 111,
      "outputs": [
        {
          "output_type": "execute_result",
          "data": {
            "text/plain": [
              "            Feature   Correlation\n",
              "3      context_type  6.056559e-07\n",
              "5     platform_name  1.359089e-07\n",
              "12         user_age  4.790632e-09\n",
              "8       listen_type  7.194553e-11\n",
              "4      release_date  1.262470e-11\n",
              "13      is_listened  1.089043e-11\n",
              "6   platform_family  5.749262e-12\n",
              "7    media_duration  4.224130e-12\n",
              "10          user_id -1.295351e-12\n",
              "9       user_gender -2.769690e-12\n",
              "1          media_id -1.296577e-09\n",
              "0         ts_listen -6.761630e-09\n",
              "11        artist_id -7.113249e-09\n",
              "2          album_id -6.314406e-08"
            ],
            "text/html": [
              "\n",
              "  <div id=\"df-af16727d-bdfb-43c4-9362-b693fe84159e\">\n",
              "    <div class=\"colab-df-container\">\n",
              "      <div>\n",
              "<style scoped>\n",
              "    .dataframe tbody tr th:only-of-type {\n",
              "        vertical-align: middle;\n",
              "    }\n",
              "\n",
              "    .dataframe tbody tr th {\n",
              "        vertical-align: top;\n",
              "    }\n",
              "\n",
              "    .dataframe thead th {\n",
              "        text-align: right;\n",
              "    }\n",
              "</style>\n",
              "<table border=\"1\" class=\"dataframe\">\n",
              "  <thead>\n",
              "    <tr style=\"text-align: right;\">\n",
              "      <th></th>\n",
              "      <th>Feature</th>\n",
              "      <th>Correlation</th>\n",
              "    </tr>\n",
              "  </thead>\n",
              "  <tbody>\n",
              "    <tr>\n",
              "      <th>3</th>\n",
              "      <td>context_type</td>\n",
              "      <td>6.056559e-07</td>\n",
              "    </tr>\n",
              "    <tr>\n",
              "      <th>5</th>\n",
              "      <td>platform_name</td>\n",
              "      <td>1.359089e-07</td>\n",
              "    </tr>\n",
              "    <tr>\n",
              "      <th>12</th>\n",
              "      <td>user_age</td>\n",
              "      <td>4.790632e-09</td>\n",
              "    </tr>\n",
              "    <tr>\n",
              "      <th>8</th>\n",
              "      <td>listen_type</td>\n",
              "      <td>7.194553e-11</td>\n",
              "    </tr>\n",
              "    <tr>\n",
              "      <th>4</th>\n",
              "      <td>release_date</td>\n",
              "      <td>1.262470e-11</td>\n",
              "    </tr>\n",
              "    <tr>\n",
              "      <th>13</th>\n",
              "      <td>is_listened</td>\n",
              "      <td>1.089043e-11</td>\n",
              "    </tr>\n",
              "    <tr>\n",
              "      <th>6</th>\n",
              "      <td>platform_family</td>\n",
              "      <td>5.749262e-12</td>\n",
              "    </tr>\n",
              "    <tr>\n",
              "      <th>7</th>\n",
              "      <td>media_duration</td>\n",
              "      <td>4.224130e-12</td>\n",
              "    </tr>\n",
              "    <tr>\n",
              "      <th>10</th>\n",
              "      <td>user_id</td>\n",
              "      <td>-1.295351e-12</td>\n",
              "    </tr>\n",
              "    <tr>\n",
              "      <th>9</th>\n",
              "      <td>user_gender</td>\n",
              "      <td>-2.769690e-12</td>\n",
              "    </tr>\n",
              "    <tr>\n",
              "      <th>1</th>\n",
              "      <td>media_id</td>\n",
              "      <td>-1.296577e-09</td>\n",
              "    </tr>\n",
              "    <tr>\n",
              "      <th>0</th>\n",
              "      <td>ts_listen</td>\n",
              "      <td>-6.761630e-09</td>\n",
              "    </tr>\n",
              "    <tr>\n",
              "      <th>11</th>\n",
              "      <td>artist_id</td>\n",
              "      <td>-7.113249e-09</td>\n",
              "    </tr>\n",
              "    <tr>\n",
              "      <th>2</th>\n",
              "      <td>album_id</td>\n",
              "      <td>-6.314406e-08</td>\n",
              "    </tr>\n",
              "  </tbody>\n",
              "</table>\n",
              "</div>\n",
              "      <button class=\"colab-df-convert\" onclick=\"convertToInteractive('df-af16727d-bdfb-43c4-9362-b693fe84159e')\"\n",
              "              title=\"Convert this dataframe to an interactive table.\"\n",
              "              style=\"display:none;\">\n",
              "        \n",
              "  <svg xmlns=\"http://www.w3.org/2000/svg\" height=\"24px\"viewBox=\"0 0 24 24\"\n",
              "       width=\"24px\">\n",
              "    <path d=\"M0 0h24v24H0V0z\" fill=\"none\"/>\n",
              "    <path d=\"M18.56 5.44l.94 2.06.94-2.06 2.06-.94-2.06-.94-.94-2.06-.94 2.06-2.06.94zm-11 1L8.5 8.5l.94-2.06 2.06-.94-2.06-.94L8.5 2.5l-.94 2.06-2.06.94zm10 10l.94 2.06.94-2.06 2.06-.94-2.06-.94-.94-2.06-.94 2.06-2.06.94z\"/><path d=\"M17.41 7.96l-1.37-1.37c-.4-.4-.92-.59-1.43-.59-.52 0-1.04.2-1.43.59L10.3 9.45l-7.72 7.72c-.78.78-.78 2.05 0 2.83L4 21.41c.39.39.9.59 1.41.59.51 0 1.02-.2 1.41-.59l7.78-7.78 2.81-2.81c.8-.78.8-2.07 0-2.86zM5.41 20L4 18.59l7.72-7.72 1.47 1.35L5.41 20z\"/>\n",
              "  </svg>\n",
              "      </button>\n",
              "      \n",
              "  <style>\n",
              "    .colab-df-container {\n",
              "      display:flex;\n",
              "      flex-wrap:wrap;\n",
              "      gap: 12px;\n",
              "    }\n",
              "\n",
              "    .colab-df-convert {\n",
              "      background-color: #E8F0FE;\n",
              "      border: none;\n",
              "      border-radius: 50%;\n",
              "      cursor: pointer;\n",
              "      display: none;\n",
              "      fill: #1967D2;\n",
              "      height: 32px;\n",
              "      padding: 0 0 0 0;\n",
              "      width: 32px;\n",
              "    }\n",
              "\n",
              "    .colab-df-convert:hover {\n",
              "      background-color: #E2EBFA;\n",
              "      box-shadow: 0px 1px 2px rgba(60, 64, 67, 0.3), 0px 1px 3px 1px rgba(60, 64, 67, 0.15);\n",
              "      fill: #174EA6;\n",
              "    }\n",
              "\n",
              "    [theme=dark] .colab-df-convert {\n",
              "      background-color: #3B4455;\n",
              "      fill: #D2E3FC;\n",
              "    }\n",
              "\n",
              "    [theme=dark] .colab-df-convert:hover {\n",
              "      background-color: #434B5C;\n",
              "      box-shadow: 0px 1px 3px 1px rgba(0, 0, 0, 0.15);\n",
              "      filter: drop-shadow(0px 1px 2px rgba(0, 0, 0, 0.3));\n",
              "      fill: #FFFFFF;\n",
              "    }\n",
              "  </style>\n",
              "\n",
              "      <script>\n",
              "        const buttonEl =\n",
              "          document.querySelector('#df-af16727d-bdfb-43c4-9362-b693fe84159e button.colab-df-convert');\n",
              "        buttonEl.style.display =\n",
              "          google.colab.kernel.accessAllowed ? 'block' : 'none';\n",
              "\n",
              "        async function convertToInteractive(key) {\n",
              "          const element = document.querySelector('#df-af16727d-bdfb-43c4-9362-b693fe84159e');\n",
              "          const dataTable =\n",
              "            await google.colab.kernel.invokeFunction('convertToInteractive',\n",
              "                                                     [key], {});\n",
              "          if (!dataTable) return;\n",
              "\n",
              "          const docLinkHtml = 'Like what you see? Visit the ' +\n",
              "            '<a target=\"_blank\" href=https://colab.research.google.com/notebooks/data_table.ipynb>data table notebook</a>'\n",
              "            + ' to learn more about interactive tables.';\n",
              "          element.innerHTML = '';\n",
              "          dataTable['output_type'] = 'display_data';\n",
              "          await google.colab.output.renderOutput(dataTable, element);\n",
              "          const docLink = document.createElement('div');\n",
              "          docLink.innerHTML = docLinkHtml;\n",
              "          element.appendChild(docLink);\n",
              "        }\n",
              "      </script>\n",
              "    </div>\n",
              "  </div>\n",
              "  "
            ]
          },
          "metadata": {},
          "execution_count": 111
        }
      ]
    },
    {
      "cell_type": "markdown",
      "source": [
        "We selected the most informative columns using Random Forest Model."
      ],
      "metadata": {
        "id": "z6wiI6tK-GZQ"
      }
    },
    {
      "cell_type": "code",
      "source": [
        "# Model with the best estimator\n",
        "from sklearn.model_selection import cross_val_score\n",
        "from sklearn.datasets import make_blobs\n",
        "from sklearn.ensemble import RandomForestClassifier\n",
        "from sklearn.ensemble import ExtraTreesClassifier\n",
        "from sklearn.tree import DecisionTreeClassifier\n",
        "from sklearn.ensemble import RandomForestClassifier\n",
        "from sklearn.datasets import make_classification\n",
        "model =RandomForestClassifier(n_estimators=250, max_depth=25)\n",
        "model.fit(train_df[train_df.columns[train_df.columns != 'is_listened']], train_df.is_listened)"
      ],
      "metadata": {
        "colab": {
          "base_uri": "https://localhost:8080/"
        },
        "id": "JO-RDLMt-Sp4",
        "outputId": "699a143c-0dd3-4e73-96a6-aa1a164d6ba6"
      },
      "execution_count": 112,
      "outputs": [
        {
          "output_type": "execute_result",
          "data": {
            "text/plain": [
              "RandomForestClassifier(max_depth=25, n_estimators=250)"
            ]
          },
          "metadata": {},
          "execution_count": 112
        }
      ]
    },
    {
      "cell_type": "code",
      "source": [
        "train_df_plot = pd.DataFrame({'features': train_df.columns[train_df.columns != 'is_listened'],\n",
        "                        'importances': model.feature_importances_})\n",
        "train_df_plot = train_df_plot.sort_values('importances', ascending=False)"
      ],
      "metadata": {
        "id": "5AP4ojif-gAR"
      },
      "execution_count": 113,
      "outputs": []
    },
    {
      "cell_type": "code",
      "source": [
        "plt.figure(figsize=[11,5])\n",
        "sns.barplot(x = df_plot.importances, y = df_plot.features)\n",
        "plt.title('Importances of Features Plot')\n",
        "plt.show()"
      ],
      "metadata": {
        "colab": {
          "base_uri": "https://localhost:8080/",
          "height": 356
        },
        "id": "XH86YtN6FT2q",
        "outputId": "adb56e62-f9a5-4e71-ce20-1f3521ca1fc2"
      },
      "execution_count": 114,
      "outputs": [
        {
          "output_type": "display_data",
          "data": {
            "text/plain": [
              "<Figure size 792x360 with 1 Axes>"
            ],
            "image/png": "[encoded data removed]"
          },
          "metadata": {
            "needs_background": "light"
          }
        }
      ]
    },
    {
      "cell_type": "code",
      "source": [
        "# Drop columns with importances < 0.04\n",
        "train_df = train_df.drop(df_plot.features[df_plot.importances < 0.04].tolist(), 1)\n",
        "#df = df.drop(df_plot.features[df_plot.importances < 0.04].tolist(), 1)"
      ],
      "metadata": {
        "id": "5pT-rV-7Fje6"
      },
      "execution_count": 115,
      "outputs": []
    },
    {
      "cell_type": "code",
      "source": [
        "# Selected columns\n",
        "train_df.columns"
      ],
      "metadata": {
        "colab": {
          "base_uri": "https://localhost:8080/"
        },
        "id": "g7HmM3HvF1Az",
        "outputId": "cfaad2a3-0b7d-40c6-f164-21d6ec9fc35e"
      },
      "execution_count": 116,
      "outputs": [
        {
          "output_type": "execute_result",
          "data": {
            "text/plain": [
              "Index(['ts_listen', 'media_id', 'album_id', 'context_type', 'release_date',\n",
              "       'media_duration', 'user_id', 'artist_id', 'user_age', 'is_listened'],\n",
              "      dtype='object')"
            ]
          },
          "metadata": {},
          "execution_count": 116
        }
      ]
    },
    {
      "cell_type": "code",
      "source": [
        "# Logistic Regression\n",
        "\n",
        "from sklearn.linear_model import LogisticRegression\n",
        "logreg_model = LogisticRegression()\n",
        "logreg_model.fit(X_train, Y_train)\n",
        "Y_pred = logreg_model.predict(X_test)\n",
        "acc_log = round(logreg_model.score(X_train, Y_train) * 100, 2)\n",
        "acc_log\n",
        "\n"
      ],
      "metadata": {
        "colab": {
          "base_uri": "https://localhost:8080/"
        },
        "id": "zkbkelRmKUwy",
        "outputId": "7dbcbb92-380b-4f5c-cf70-95e70af375ce"
      },
      "execution_count": 117,
      "outputs": [
        {
          "output_type": "execute_result",
          "data": {
            "text/plain": [
              "69.74"
            ]
          },
          "metadata": {},
          "execution_count": 117
        }
      ]
    },
    {
      "cell_type": "code",
      "source": [
        "# KNeighbors\n",
        "\n",
        "from sklearn.neighbors import KNeighborsClassifier\n",
        "knn_model = KNeighborsClassifier(n_neighbors = 3)\n",
        "knn_model.fit(X_train, Y_train)\n",
        "Y_pred = knn_model.predict(X_test)\n",
        "acc_knn = round(knn_model.score(X_train, Y_train) * 100, 2)\n",
        "acc_knn\n"
      ],
      "metadata": {
        "colab": {
          "base_uri": "https://localhost:8080/"
        },
        "id": "ERsOTNdGX27o",
        "outputId": "2f0013ef-8448-4dfd-ae01-6e9592420933"
      },
      "execution_count": 118,
      "outputs": [
        {
          "output_type": "execute_result",
          "data": {
            "text/plain": [
              "82.33"
            ]
          },
          "metadata": {},
          "execution_count": 118
        }
      ]
    },
    {
      "cell_type": "code",
      "source": [
        "# Stochastic Gradient Descent\n",
        "\n",
        "sgd = SGDClassifier()\n",
        "sgd.fit(X_train, Y_train)\n",
        "Y_pred = sgd.predict(X_test)\n",
        "acc_sgd = round(sgd.score(X_train, Y_train) * 100, 2)\n",
        "acc_sgd"
      ],
      "metadata": {
        "id": "u2HhbYtfwV1L",
        "outputId": "99c3aa4d-789e-4ce1-9db9-4f7de9900458",
        "colab": {
          "base_uri": "https://localhost:8080/"
        }
      },
      "execution_count": 119,
      "outputs": [
        {
          "output_type": "execute_result",
          "data": {
            "text/plain": [
              "69.74"
            ]
          },
          "metadata": {},
          "execution_count": 119
        }
      ]
    },
    {
      "cell_type": "code",
      "source": [
        "# Decision Tree\n",
        "\n",
        "decision_tree = DecisionTreeClassifier()\n",
        "decision_tree.fit(X_train, Y_train)\n",
        "Y_pred = decision_tree.predict(X_test)\n",
        "acc_decision_tree = round(decision_tree.score(X_train, Y_train) * 100, 2)\n",
        "acc_decision_tree"
      ],
      "metadata": {
        "colab": {
          "base_uri": "https://localhost:8080/"
        },
        "id": "sFl77vMsXEz_",
        "outputId": "7301bd46-db98-409c-9e59-43221e5b1d35"
      },
      "execution_count": 120,
      "outputs": [
        {
          "output_type": "execute_result",
          "data": {
            "text/plain": [
              "99.63"
            ]
          },
          "metadata": {},
          "execution_count": 120
        }
      ]
    },
    {
      "cell_type": "code",
      "source": [
        "# Random Forest\n",
        "\n",
        "random_forest = RandomForestClassifier(n_estimators=100)\n",
        "random_forest.fit(X_train, Y_train)\n",
        "Y_pred = random_forest.predict(X_test)\n",
        "random_forest.score(X_train, Y_train)\n",
        "acc_random_forest = round(random_forest.score(X_train, Y_train) * 100, 2)\n",
        "acc_random_forest"
      ],
      "metadata": {
        "colab": {
          "base_uri": "https://localhost:8080/"
        },
        "id": "z9XTvnLUBTvD",
        "outputId": "d5ae00fa-ea27-4e6b-811f-5fa63409893f"
      },
      "execution_count": 121,
      "outputs": [
        {
          "output_type": "execute_result",
          "data": {
            "text/plain": [
              "99.63"
            ]
          },
          "metadata": {},
          "execution_count": 121
        }
      ]
    },
    {
      "cell_type": "code",
      "source": [
        "# Gaussian Naive Bayes\n",
        "\n",
        "gaussian = GaussianNB()\n",
        "gaussian.fit(X_train, Y_train)\n",
        "Y_pred = gaussian.predict(X_test)\n",
        "acc_gaussian = round(gaussian.score(X_train, Y_train) * 100, 2)\n",
        "acc_gaussian"
      ],
      "metadata": {
        "id": "xRo4DrZNrt0A",
        "colab": {
          "base_uri": "https://localhost:8080/"
        },
        "outputId": "3f1a5662-b1ee-448e-bb24-c4d0f73aba05"
      },
      "execution_count": 122,
      "outputs": [
        {
          "output_type": "execute_result",
          "data": {
            "text/plain": [
              "30.28"
            ]
          },
          "metadata": {},
          "execution_count": 122
        }
      ]
    },
    {
      "cell_type": "code",
      "source": [
        "# Linear SVC\n",
        "\n",
        "linear_svc = LinearSVC()\n",
        "linear_svc.fit(X_train, Y_train)\n",
        "Y_pred = linear_svc.predict(X_test)\n",
        "acc_linear_svc = round(linear_svc.score(X_train, Y_train) * 100, 2)\n",
        "acc_linear_svc"
      ],
      "metadata": {
        "colab": {
          "base_uri": "https://localhost:8080/"
        },
        "id": "O3ClldSMYj0c",
        "outputId": "94cacbda-27d4-4629-cbbc-2405ceee1ae4"
      },
      "execution_count": 123,
      "outputs": [
        {
          "output_type": "execute_result",
          "data": {
            "text/plain": [
              "69.74"
            ]
          },
          "metadata": {},
          "execution_count": 123
        }
      ]
    },
    {
      "cell_type": "markdown",
      "source": [
        "**Model evaluation**\n",
        "\n",
        "We can now rank our evaluation of all the models to choose the best one for our problem. "
      ],
      "metadata": {
        "id": "yD2IYMoNXv3M"
      }
    },
    {
      "cell_type": "code",
      "source": [
        "models = pd.DataFrame({\n",
        "    'Model': [ 'KNN', 'Logistic Regression', \n",
        "              'Random Forest', 'Naive Bayes', \n",
        "              'Stochastic Gradient Decent', 'Linear SVC', \n",
        "              'Decision Tree'],\n",
        "    'Score': [acc_knn, acc_log, \n",
        "              acc_random_forest, acc_gaussian, \n",
        "              acc_sgd, acc_linear_svc, acc_decision_tree]})\n",
        "models.sort_values(by='Score', ascending=False)"
      ],
      "metadata": {
        "colab": {
          "base_uri": "https://localhost:8080/",
          "height": 269
        },
        "id": "S0mPl9qVZxY_",
        "outputId": "85807279-72a6-4063-d8a1-41abd505a6a8"
      },
      "execution_count": 126,
      "outputs": [
        {
          "output_type": "execute_result",
          "data": {
            "text/plain": [
              "                        Model  Score\n",
              "2               Random Forest  99.63\n",
              "6               Decision Tree  99.63\n",
              "0                         KNN  82.33\n",
              "1         Logistic Regression  69.74\n",
              "4  Stochastic Gradient Decent  69.74\n",
              "5                  Linear SVC  69.74\n",
              "3                 Naive Bayes  30.28"
            ],
            "text/html": [
              "\n",
              "  <div id=\"df-269f7029-0d80-4ba2-baa0-d2a480851dff\">\n",
              "    <div class=\"colab-df-container\">\n",
              "      <div>\n",
              "<style scoped>\n",
              "    .dataframe tbody tr th:only-of-type {\n",
              "        vertical-align: middle;\n",
              "    }\n",
              "\n",
              "    .dataframe tbody tr th {\n",
              "        vertical-align: top;\n",
              "    }\n",
              "\n",
              "    .dataframe thead th {\n",
              "        text-align: right;\n",
              "    }\n",
              "</style>\n",
              "<table border=\"1\" class=\"dataframe\">\n",
              "  <thead>\n",
              "    <tr style=\"text-align: right;\">\n",
              "      <th></th>\n",
              "      <th>Model</th>\n",
              "      <th>Score</th>\n",
              "    </tr>\n",
              "  </thead>\n",
              "  <tbody>\n",
              "    <tr>\n",
              "      <th>2</th>\n",
              "      <td>Random Forest</td>\n",
              "      <td>99.63</td>\n",
              "    </tr>\n",
              "    <tr>\n",
              "      <th>6</th>\n",
              "      <td>Decision Tree</td>\n",
              "      <td>99.63</td>\n",
              "    </tr>\n",
              "    <tr>\n",
              "      <th>0</th>\n",
              "      <td>KNN</td>\n",
              "      <td>82.33</td>\n",
              "    </tr>\n",
              "    <tr>\n",
              "      <th>1</th>\n",
              "      <td>Logistic Regression</td>\n",
              "      <td>69.74</td>\n",
              "    </tr>\n",
              "    <tr>\n",
              "      <th>4</th>\n",
              "      <td>Stochastic Gradient Decent</td>\n",
              "      <td>69.74</td>\n",
              "    </tr>\n",
              "    <tr>\n",
              "      <th>5</th>\n",
              "      <td>Linear SVC</td>\n",
              "      <td>69.74</td>\n",
              "    </tr>\n",
              "    <tr>\n",
              "      <th>3</th>\n",
              "      <td>Naive Bayes</td>\n",
              "      <td>30.28</td>\n",
              "    </tr>\n",
              "  </tbody>\n",
              "</table>\n",
              "</div>\n",
              "      <button class=\"colab-df-convert\" onclick=\"convertToInteractive('df-269f7029-0d80-4ba2-baa0-d2a480851dff')\"\n",
              "              title=\"Convert this dataframe to an interactive table.\"\n",
              "              style=\"display:none;\">\n",
              "        \n",
              "  <svg xmlns=\"http://www.w3.org/2000/svg\" height=\"24px\"viewBox=\"0 0 24 24\"\n",
              "       width=\"24px\">\n",
              "    <path d=\"M0 0h24v24H0V0z\" fill=\"none\"/>\n",
              "    <path d=\"M18.56 5.44l.94 2.06.94-2.06 2.06-.94-2.06-.94-.94-2.06-.94 2.06-2.06.94zm-11 1L8.5 8.5l.94-2.06 2.06-.94-2.06-.94L8.5 2.5l-.94 2.06-2.06.94zm10 10l.94 2.06.94-2.06 2.06-.94-2.06-.94-.94-2.06-.94 2.06-2.06.94z\"/><path d=\"M17.41 7.96l-1.37-1.37c-.4-.4-.92-.59-1.43-.59-.52 0-1.04.2-1.43.59L10.3 9.45l-7.72 7.72c-.78.78-.78 2.05 0 2.83L4 21.41c.39.39.9.59 1.41.59.51 0 1.02-.2 1.41-.59l7.78-7.78 2.81-2.81c.8-.78.8-2.07 0-2.86zM5.41 20L4 18.59l7.72-7.72 1.47 1.35L5.41 20z\"/>\n",
              "  </svg>\n",
              "      </button>\n",
              "      \n",
              "  <style>\n",
              "    .colab-df-container {\n",
              "      display:flex;\n",
              "      flex-wrap:wrap;\n",
              "      gap: 12px;\n",
              "    }\n",
              "\n",
              "    .colab-df-convert {\n",
              "      background-color: #E8F0FE;\n",
              "      border: none;\n",
              "      border-radius: 50%;\n",
              "      cursor: pointer;\n",
              "      display: none;\n",
              "      fill: #1967D2;\n",
              "      height: 32px;\n",
              "      padding: 0 0 0 0;\n",
              "      width: 32px;\n",
              "    }\n",
              "\n",
              "    .colab-df-convert:hover {\n",
              "      background-color: #E2EBFA;\n",
              "      box-shadow: 0px 1px 2px rgba(60, 64, 67, 0.3), 0px 1px 3px 1px rgba(60, 64, 67, 0.15);\n",
              "      fill: #174EA6;\n",
              "    }\n",
              "\n",
              "    [theme=dark] .colab-df-convert {\n",
              "      background-color: #3B4455;\n",
              "      fill: #D2E3FC;\n",
              "    }\n",
              "\n",
              "    [theme=dark] .colab-df-convert:hover {\n",
              "      background-color: #434B5C;\n",
              "      box-shadow: 0px 1px 3px 1px rgba(0, 0, 0, 0.15);\n",
              "      filter: drop-shadow(0px 1px 2px rgba(0, 0, 0, 0.3));\n",
              "      fill: #FFFFFF;\n",
              "    }\n",
              "  </style>\n",
              "\n",
              "      <script>\n",
              "        const buttonEl =\n",
              "          document.querySelector('#df-269f7029-0d80-4ba2-baa0-d2a480851dff button.colab-df-convert');\n",
              "        buttonEl.style.display =\n",
              "          google.colab.kernel.accessAllowed ? 'block' : 'none';\n",
              "\n",
              "        async function convertToInteractive(key) {\n",
              "          const element = document.querySelector('#df-269f7029-0d80-4ba2-baa0-d2a480851dff');\n",
              "          const dataTable =\n",
              "            await google.colab.kernel.invokeFunction('convertToInteractive',\n",
              "                                                     [key], {});\n",
              "          if (!dataTable) return;\n",
              "\n",
              "          const docLinkHtml = 'Like what you see? Visit the ' +\n",
              "            '<a target=\"_blank\" href=https://colab.research.google.com/notebooks/data_table.ipynb>data table notebook</a>'\n",
              "            + ' to learn more about interactive tables.';\n",
              "          element.innerHTML = '';\n",
              "          dataTable['output_type'] = 'display_data';\n",
              "          await google.colab.output.renderOutput(dataTable, element);\n",
              "          const docLink = document.createElement('div');\n",
              "          docLink.innerHTML = docLinkHtml;\n",
              "          element.appendChild(docLink);\n",
              "        }\n",
              "      </script>\n",
              "    </div>\n",
              "  </div>\n",
              "  "
            ]
          },
          "metadata": {},
          "execution_count": 126
        }
      ]
    },
    {
      "cell_type": "markdown",
      "source": [
        "While both Decision Tree and Random Forest score the same, we choose to use Random Forest as they correct for decision trees' habit of overfitting to their training set.\n"
      ],
      "metadata": {
        "id": "ZWOxG5WMaht7"
      }
    },
    {
      "cell_type": "code",
      "source": [
        "test_df_final = pd.DataFrame({\n",
        "        \"user_id\": test_df[\"user_id\"],\n",
        "        \"is_listened\": Y_pred\n",
        "    })"
      ],
      "metadata": {
        "id": "oenD5A_8apvL"
      },
      "execution_count": 127,
      "outputs": []
    },
    {
      "cell_type": "code",
      "source": [
        "test_df_final.tail()"
      ],
      "metadata": {
        "colab": {
          "base_uri": "https://localhost:8080/",
          "height": 206
        },
        "id": "Rpr7BOjQbXMz",
        "outputId": "b98875f0-6f7c-430c-94e4-2d7673f0f5a8"
      },
      "execution_count": 129,
      "outputs": [
        {
          "output_type": "execute_result",
          "data": {
            "text/plain": [
              "       user_id  is_listened\n",
              "517478     7.0          1.0\n",
              "517479     7.0          1.0\n",
              "517480     7.0          1.0\n",
              "517481     7.0          1.0\n",
              "517482     7.0          1.0"
            ],
            "text/html": [
              "\n",
              "  <div id=\"df-84f56629-86e0-42e1-b05a-12adcc7a1baf\">\n",
              "    <div class=\"colab-df-container\">\n",
              "      <div>\n",
              "<style scoped>\n",
              "    .dataframe tbody tr th:only-of-type {\n",
              "        vertical-align: middle;\n",
              "    }\n",
              "\n",
              "    .dataframe tbody tr th {\n",
              "        vertical-align: top;\n",
              "    }\n",
              "\n",
              "    .dataframe thead th {\n",
              "        text-align: right;\n",
              "    }\n",
              "</style>\n",
              "<table border=\"1\" class=\"dataframe\">\n",
              "  <thead>\n",
              "    <tr style=\"text-align: right;\">\n",
              "      <th></th>\n",
              "      <th>user_id</th>\n",
              "      <th>is_listened</th>\n",
              "    </tr>\n",
              "  </thead>\n",
              "  <tbody>\n",
              "    <tr>\n",
              "      <th>517478</th>\n",
              "      <td>7.0</td>\n",
              "      <td>1.0</td>\n",
              "    </tr>\n",
              "    <tr>\n",
              "      <th>517479</th>\n",
              "      <td>7.0</td>\n",
              "      <td>1.0</td>\n",
              "    </tr>\n",
              "    <tr>\n",
              "      <th>517480</th>\n",
              "      <td>7.0</td>\n",
              "      <td>1.0</td>\n",
              "    </tr>\n",
              "    <tr>\n",
              "      <th>517481</th>\n",
              "      <td>7.0</td>\n",
              "      <td>1.0</td>\n",
              "    </tr>\n",
              "    <tr>\n",
              "      <th>517482</th>\n",
              "      <td>7.0</td>\n",
              "      <td>1.0</td>\n",
              "    </tr>\n",
              "  </tbody>\n",
              "</table>\n",
              "</div>\n",
              "      <button class=\"colab-df-convert\" onclick=\"convertToInteractive('df-84f56629-86e0-42e1-b05a-12adcc7a1baf')\"\n",
              "              title=\"Convert this dataframe to an interactive table.\"\n",
              "              style=\"display:none;\">\n",
              "        \n",
              "  <svg xmlns=\"http://www.w3.org/2000/svg\" height=\"24px\"viewBox=\"0 0 24 24\"\n",
              "       width=\"24px\">\n",
              "    <path d=\"M0 0h24v24H0V0z\" fill=\"none\"/>\n",
              "    <path d=\"M18.56 5.44l.94 2.06.94-2.06 2.06-.94-2.06-.94-.94-2.06-.94 2.06-2.06.94zm-11 1L8.5 8.5l.94-2.06 2.06-.94-2.06-.94L8.5 2.5l-.94 2.06-2.06.94zm10 10l.94 2.06.94-2.06 2.06-.94-2.06-.94-.94-2.06-.94 2.06-2.06.94z\"/><path d=\"M17.41 7.96l-1.37-1.37c-.4-.4-.92-.59-1.43-.59-.52 0-1.04.2-1.43.59L10.3 9.45l-7.72 7.72c-.78.78-.78 2.05 0 2.83L4 21.41c.39.39.9.59 1.41.59.51 0 1.02-.2 1.41-.59l7.78-7.78 2.81-2.81c.8-.78.8-2.07 0-2.86zM5.41 20L4 18.59l7.72-7.72 1.47 1.35L5.41 20z\"/>\n",
              "  </svg>\n",
              "      </button>\n",
              "      \n",
              "  <style>\n",
              "    .colab-df-container {\n",
              "      display:flex;\n",
              "      flex-wrap:wrap;\n",
              "      gap: 12px;\n",
              "    }\n",
              "\n",
              "    .colab-df-convert {\n",
              "      background-color: #E8F0FE;\n",
              "      border: none;\n",
              "      border-radius: 50%;\n",
              "      cursor: pointer;\n",
              "      display: none;\n",
              "      fill: #1967D2;\n",
              "      height: 32px;\n",
              "      padding: 0 0 0 0;\n",
              "      width: 32px;\n",
              "    }\n",
              "\n",
              "    .colab-df-convert:hover {\n",
              "      background-color: #E2EBFA;\n",
              "      box-shadow: 0px 1px 2px rgba(60, 64, 67, 0.3), 0px 1px 3px 1px rgba(60, 64, 67, 0.15);\n",
              "      fill: #174EA6;\n",
              "    }\n",
              "\n",
              "    [theme=dark] .colab-df-convert {\n",
              "      background-color: #3B4455;\n",
              "      fill: #D2E3FC;\n",
              "    }\n",
              "\n",
              "    [theme=dark] .colab-df-convert:hover {\n",
              "      background-color: #434B5C;\n",
              "      box-shadow: 0px 1px 3px 1px rgba(0, 0, 0, 0.15);\n",
              "      filter: drop-shadow(0px 1px 2px rgba(0, 0, 0, 0.3));\n",
              "      fill: #FFFFFF;\n",
              "    }\n",
              "  </style>\n",
              "\n",
              "      <script>\n",
              "        const buttonEl =\n",
              "          document.querySelector('#df-84f56629-86e0-42e1-b05a-12adcc7a1baf button.colab-df-convert');\n",
              "        buttonEl.style.display =\n",
              "          google.colab.kernel.accessAllowed ? 'block' : 'none';\n",
              "\n",
              "        async function convertToInteractive(key) {\n",
              "          const element = document.querySelector('#df-84f56629-86e0-42e1-b05a-12adcc7a1baf');\n",
              "          const dataTable =\n",
              "            await google.colab.kernel.invokeFunction('convertToInteractive',\n",
              "                                                     [key], {});\n",
              "          if (!dataTable) return;\n",
              "\n",
              "          const docLinkHtml = 'Like what you see? Visit the ' +\n",
              "            '<a target=\"_blank\" href=https://colab.research.google.com/notebooks/data_table.ipynb>data table notebook</a>'\n",
              "            + ' to learn more about interactive tables.';\n",
              "          element.innerHTML = '';\n",
              "          dataTable['output_type'] = 'display_data';\n",
              "          await google.colab.output.renderOutput(dataTable, element);\n",
              "          const docLink = document.createElement('div');\n",
              "          docLink.innerHTML = docLinkHtml;\n",
              "          element.appendChild(docLink);\n",
              "        }\n",
              "      </script>\n",
              "    </div>\n",
              "  </div>\n",
              "  "
            ]
          },
          "metadata": {},
          "execution_count": 129
        }
      ]
    }
  ]
}